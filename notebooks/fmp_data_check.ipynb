{
 "cells": [
  {
   "cell_type": "markdown",
   "metadata": {},
   "source": [
    "# FMP API Quick Check\n",
    "\n",
    "这个 Notebook 用来快速验证本地环境是否能从 Financial Modeling Prep (FMP) 拉取财报数据。"
   ],
   "id": "eae5dffec9ed131"
  },
  {
   "cell_type": "markdown",
   "metadata": {},
   "source": [
    "## 使用说明\n",
    "\n",
    "1. 在项目根目录的 `.env` 或系统环境变量里写入 `FMP_API_KEY=<你的密钥>`。\n",
    "2. 如需指定其他 `.env`，修改下方 `ENV_FILE`。\n",
    "3. 运行后面的代码单元即可看到接口返回的数据。"
   ],
   "id": "8df6821978f034f7"
  },
  {
   "cell_type": "code",
   "metadata": {
    "ExecuteTime": {
     "end_time": "2025-11-01T10:15:08.037295Z",
     "start_time": "2025-11-01T10:15:08.031815Z"
    }
   },
   "source": [
    "import os\n",
    "from datetime import date, timedelta\n",
    "from pathlib import Path\n",
    "from typing import Iterable\n",
    "import requests\n",
    "\n",
    "ENV_FILE = Path(\"../.env\")  # 如需指定其他路径，修改这里\n",
    "\n",
    "def load_env_file(path: Path) -> None:\n",
    "    if not path.exists():\n",
    "        return\n",
    "    for raw in path.read_text(encoding=\"utf-8\").splitlines():\n",
    "        line = raw.strip()\n",
    "        if not line or line.startswith(\"#\") or \"=\" not in line:\n",
    "            continue\n",
    "        key, value = line.split(\"=\", 1)\n",
    "        os.environ.setdefault(key.strip(), value.strip().strip('\"').strip(\"'\"))\n",
    "\n",
    "load_env_file(ENV_FILE)\n",
    "FMP_API_KEY = os.getenv(\"FMP_API_KEY\")\n",
    "if not FMP_API_KEY:\n",
    "    raise RuntimeError(\"FMP_API_KEY 未设置，请先在 .env 或环境变量中配置。\")"
   ],
   "id": "c9df975fbc8fddeb",
   "outputs": [],
   "execution_count": 3
  },
  {
   "cell_type": "code",
   "metadata": {
    "ExecuteTime": {
     "end_time": "2025-11-01T10:15:17.120224Z",
     "start_time": "2025-11-01T10:15:17.116760Z"
    }
   },
   "source": [
    "# 根据需要调整要查询的股票列表与时间范围\n",
    "symbols = [\"AAPL\", \"MSFT\", \"NVDA\"]\n",
    "lookahead_days = 60  # 查询未来多少天\n",
    "\n",
    "start_date = date.today()\n",
    "end_date = start_date + timedelta(days=lookahead_days)\n",
    "\n",
    "print(f\"查询区间: {start_date} ~ {end_date}\")"
   ],
   "id": "108db5a1c6f121c6",
   "outputs": [
    {
     "name": "stdout",
     "output_type": "stream",
     "text": [
      "查询区间: 2025-11-01 ~ 2025-12-31\n"
     ]
    }
   ],
   "execution_count": 4
  },
  {
   "cell_type": "code",
   "metadata": {
    "ExecuteTime": {
     "end_time": "2025-11-01T10:17:46.405923Z",
     "start_time": "2025-11-01T10:17:45.952357Z"
    }
   },
   "source": [
    "def fetch_fmp_calendar(symbols: Iterable[str], start: date, end: date) -> list[dict]:\n",
    "    since = start.strftime(\"%Y-%m-%d\")\n",
    "    until = end.strftime(\"%Y-%m-%d\")\n",
    "    url = (\n",
    "        \"https://financialmodelingprep.com/stable/earnings-calendar?\"\n",
    "        f\"?from={since}&to={until}&apikey={FMP_API_KEY}\"\n",
    "    )\n",
    "    response = requests.get(url, timeout=20)\n",
    "    response.raise_for_status()\n",
    "    data = response.json() or []\n",
    "    wanted = {symbol.upper() for symbol in symbols}\n",
    "    return [item for item in data if (item.get(\"symbol\") or \"\").upper() in wanted]\n",
    "\n",
    "events = fetch_fmp_calendar(symbols, start_date, end_date)\n",
    "print(f\"返回 {len(events)} 条记录\")\n",
    "events[:5]"
   ],
   "id": "ac436caedc4a27a1",
   "outputs": [
    {
     "name": "stdout",
     "output_type": "stream",
     "text": [
      "返回 4 条记录\n"
     ]
    },
    {
     "data": {
      "text/plain": [
       "[{'symbol': 'NVDA',\n",
       "  'date': '2025-11-19',\n",
       "  'epsActual': None,\n",
       "  'epsEstimated': 1.23,\n",
       "  'revenueActual': None,\n",
       "  'revenueEstimated': 54695012750,\n",
       "  'lastUpdated': '2025-11-01'},\n",
       " {'symbol': 'AAPL',\n",
       "  'date': '2025-10-30',\n",
       "  'epsActual': 1.85,\n",
       "  'epsEstimated': 1.78,\n",
       "  'revenueActual': 102466000000,\n",
       "  'revenueEstimated': 102227074560,\n",
       "  'lastUpdated': '2025-11-01'},\n",
       " {'symbol': 'MSFT',\n",
       "  'date': '2025-10-29',\n",
       "  'epsActual': 4.13,\n",
       "  'epsEstimated': 3.67,\n",
       "  'revenueActual': 77673000000,\n",
       "  'revenueEstimated': 75494678452,\n",
       "  'lastUpdated': '2025-10-31'},\n",
       " {'symbol': 'NVDA',\n",
       "  'date': '2025-08-27',\n",
       "  'epsActual': 1.05,\n",
       "  'epsEstimated': 1.01,\n",
       "  'revenueActual': 46743000000,\n",
       "  'revenueEstimated': 46048920689,\n",
       "  'lastUpdated': '2025-11-01'}]"
      ]
     },
     "execution_count": 7,
     "metadata": {},
     "output_type": "execute_result"
    }
   ],
   "execution_count": 7
  }
 ],
 "metadata": {
  "kernelspec": {
   "display_name": "Python 3",
   "language": "python",
   "name": "python3"
  },
  "language_info": {
   "name": "python",
   "version": "3.13"
  }
 },
 "nbformat": 4,
 "nbformat_minor": 5
}
